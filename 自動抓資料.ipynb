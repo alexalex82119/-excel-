{
 "cells": [
  {
   "cell_type": "code",
   "execution_count": 8,
   "metadata": {},
   "outputs": [],
   "source": [
    "from openpyxl import load_workbook\n",
    "import numpy as np"
   ]
  },
  {
   "cell_type": "code",
   "execution_count": 9,
   "metadata": {},
   "outputs": [],
   "source": [
    "def write_xlsx_file(name,sheet):#(檔案名稱(.xlsx),第幾頁)\n",
    "    data=[]\n",
    "    output=[]\n",
    "    wb =  load_workbook(name,read_only=True)\n",
    "    ws = wb[sheet]\n",
    "    for row in ws.rows:\n",
    "        for cell in row:\n",
    "            if isinstance(cell.value,float):\n",
    "                data.append(cell.value)\n",
    "            else:\n",
    "                if(cell.value is not None):\n",
    "                    for c in cell.value:\n",
    "                        if c.isdigit() or c=='.':\n",
    "                            output.append(c)                      \n",
    "    output=float(''.join(output))\n",
    "    data=np.reshape(data,(-1,4))\n",
    "    return (data,output)"
   ]
  },
  {
   "cell_type": "code",
   "execution_count": 10,
   "metadata": {},
   "outputs": [
    {
     "name": "stdout",
     "output_type": "stream",
     "text": [
      "[array([[2.29657713e-05, 2.12655233e-05, 1.98152050e-05, 2.05591031e-05],\n",
      "       [2.25512117e-05, 2.04522481e-05, 1.65413600e-05, 3.75979720e-06],\n",
      "       [1.12122347e-05, 1.06301152e-05, 9.00513646e-06, 8.94675372e-07],\n",
      "       ...,\n",
      "       [5.54606497e-06, 5.53112018e-06, 1.20886168e-06, 1.38705042e-06],\n",
      "       [1.83502828e-06, 2.49113887e-06, 1.40519630e-06, 1.12200520e-06],\n",
      "       [5.03722061e-06, 4.11050389e-06, 2.75695883e-06, 2.46315690e-06]]), array([[1.90828755e-05, 1.26615728e-05, 5.78274832e-06, 6.62764342e-06],\n",
      "       [7.82511474e-06, 7.99490305e-06, 1.29762099e-05, 6.29210757e-06],\n",
      "       [6.23351384e-06, 8.05313479e-06, 1.12671924e-05, 7.28125021e-06],\n",
      "       ...,\n",
      "       [3.80067341e-06, 4.04373462e-06, 1.54675334e-06, 6.17541114e-07],\n",
      "       [3.43747548e-06, 3.05047083e-06, 1.93052147e-06, 1.53228872e-06],\n",
      "       [3.64677161e-06, 4.40090019e-06, 1.20959709e-06, 1.12510181e-06]])]\n",
      "[0.306, 0.4189]\n"
     ]
    }
   ],
   "source": [
    "training_data=[]\n",
    "output_data=[]\n",
    "for i in (range (1,3)):            \n",
    "    training_data.append(write_xlsx_file('data.xlsx',str(i))[0])\n",
    "    output_data.append(write_xlsx_file('data.xlsx',str(i))[1])\n",
    "print(training_data)\n",
    "print(output_data)"
   ]
  },
  {
   "cell_type": "code",
   "execution_count": null,
   "metadata": {},
   "outputs": [],
   "source": []
  }
 ],
 "metadata": {
  "kernelspec": {
   "display_name": "Python 3",
   "language": "python",
   "name": "python3"
  },
  "language_info": {
   "codemirror_mode": {
    "name": "ipython",
    "version": 3
   },
   "file_extension": ".py",
   "mimetype": "text/x-python",
   "name": "python",
   "nbconvert_exporter": "python",
   "pygments_lexer": "ipython3",
   "version": "3.6.5"
  }
 },
 "nbformat": 4,
 "nbformat_minor": 2
}
